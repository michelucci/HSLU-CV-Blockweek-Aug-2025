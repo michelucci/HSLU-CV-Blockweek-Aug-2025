{
 "cells": [
  {
   "cell_type": "code",
   "execution_count": 56,
   "id": "0ba2083b-febd-4004-b504-638c07c2335d",
   "metadata": {},
   "outputs": [],
   "source": [
    "from keras.models import Sequential\n",
    "from keras.layers import Dense\n",
    "#from keras.models import model_from_json\n",
    "import numpy as np\n",
    "import os\n",
    "\n",
    "import matplotlib.pyplot as plt\n",
    "import matplotlib.patches as patches\n",
    "\n",
    "from keras.utils import np_utils # To transform labels in categorical\n",
    "from keras.datasets import mnist # To load the dataset\n",
    "from keras import backend as K\n",
    "import keras\n",
    "from keras.layers import Conv2D, MaxPooling2D, Input, Dense, Flatten,Activation,AveragePooling2D\n",
    "from keras.layers.normalization import batch_normalization as BatchNormalization"
   ]
  },
  {
   "cell_type": "code",
   "execution_count": 2,
   "id": "a2efc235-1039-489b-9ab1-27e17cddcb7b",
   "metadata": {},
   "outputs": [],
   "source": [
    "(trainX, trainY), (testX, testY) = mnist.load_data()\n",
    "# reshape dataset to have a single channel\n",
    "trainX = trainX.reshape((trainX.shape[0], 28, 28, 1))\n",
    "testX = testX.reshape((testX.shape[0], 28, 28, 1))"
   ]
  },
  {
   "cell_type": "code",
   "execution_count": 4,
   "id": "603aa5c6-fd1f-4f85-baf6-96d6822f23e0",
   "metadata": {},
   "outputs": [],
   "source": [
    "trainY = np_utils.to_categorical(trainY,10)\n",
    "testY = np_utils.to_categorical(testY,10)"
   ]
  },
  {
   "cell_type": "code",
   "execution_count": 6,
   "id": "91136901-1f29-4eb3-b0f8-b3cccc758401",
   "metadata": {},
   "outputs": [],
   "source": [
    "# convert from integers to floats\n",
    "train_norm = trainX.astype('float32')\n",
    "test_norm = testX.astype('float32')\n",
    "# normalize to range 0-1\n",
    "train_norm = train_norm / 255.0\n",
    "test_norm = test_norm / 255.0"
   ]
  },
  {
   "cell_type": "markdown",
   "id": "d96659a0-25f4-4928-8b6f-f37c04182737",
   "metadata": {},
   "source": [
    "## CNN"
   ]
  },
  {
   "cell_type": "code",
   "execution_count": 18,
   "id": "d71dea3b-ce1e-4894-ab65-6a61de32467d",
   "metadata": {},
   "outputs": [],
   "source": [
    "model = Sequential()\n",
    "model.add(keras.layers.Conv2D(32, (3, 3), activation='relu', kernel_initializer='he_uniform', input_shape=(28, 28, 1)))\n",
    "model.add(keras.layers.MaxPooling2D((2, 2)))\n",
    "model.add(keras.layers.Flatten())\n",
    "model.add(keras.layers.Dense(100, activation='relu', kernel_initializer='he_uniform'))\n",
    "model.add(keras.layers.Dense(10, activation='softmax'))\n",
    "# compile model\n",
    "model.compile(optimizer='adam', loss='categorical_crossentropy', metrics=['accuracy'])"
   ]
  },
  {
   "cell_type": "code",
   "execution_count": 19,
   "id": "7f3125e6-8346-41e9-af37-5f1fcd64de79",
   "metadata": {},
   "outputs": [
    {
     "name": "stdout",
     "output_type": "stream",
     "text": [
      "Epoch 1/5\n",
      "1875/1875 [==============================] - 20s 10ms/step - loss: 0.1467 - accuracy: 0.9558 - val_loss: 0.0665 - val_accuracy: 0.9784\n",
      "Epoch 2/5\n",
      "1875/1875 [==============================] - 20s 10ms/step - loss: 0.0509 - accuracy: 0.9841 - val_loss: 0.0551 - val_accuracy: 0.9832\n",
      "Epoch 3/5\n",
      "1875/1875 [==============================] - 21s 11ms/step - loss: 0.0315 - accuracy: 0.9900 - val_loss: 0.0466 - val_accuracy: 0.9845\n",
      "Epoch 4/5\n",
      "1875/1875 [==============================] - 23s 12ms/step - loss: 0.0204 - accuracy: 0.9931 - val_loss: 0.0547 - val_accuracy: 0.9826\n",
      "Epoch 5/5\n",
      "1875/1875 [==============================] - 24s 13ms/step - loss: 0.0143 - accuracy: 0.9954 - val_loss: 0.0526 - val_accuracy: 0.9851\n"
     ]
    }
   ],
   "source": [
    "history = model.fit(train_norm, trainY, epochs=5, batch_size=32, validation_data=(test_norm, testY), verbose=1)"
   ]
  },
  {
   "cell_type": "code",
   "execution_count": 20,
   "id": "bd42a76d-86fd-49db-8562-3184b07821ac",
   "metadata": {},
   "outputs": [],
   "source": [
    "model.save('cnn_model.h5')"
   ]
  },
  {
   "cell_type": "markdown",
   "id": "62496b79-3468-43ce-8873-896ca9ab715d",
   "metadata": {},
   "source": [
    "# FFNN"
   ]
  },
  {
   "cell_type": "code",
   "execution_count": 21,
   "id": "09da65c0-c535-420b-8a3d-6f7010c573cd",
   "metadata": {},
   "outputs": [],
   "source": [
    "model = Sequential()\n",
    "model.add(keras.layers.Flatten())\n",
    "model.add(keras.layers.Dense(100, activation='relu', kernel_initializer='he_uniform'))\n",
    "model.add(keras.layers.Dense(10, activation='softmax'))\n",
    "# compile model\n",
    "model.compile(optimizer='adam', loss='categorical_crossentropy', metrics=['accuracy'])"
   ]
  },
  {
   "cell_type": "code",
   "execution_count": 22,
   "id": "4ab79b44-7258-4c15-9137-f2456344aba9",
   "metadata": {},
   "outputs": [
    {
     "name": "stdout",
     "output_type": "stream",
     "text": [
      "Epoch 1/5\n",
      "1875/1875 [==============================] - 3s 1ms/step - loss: 0.2738 - accuracy: 0.9220 - val_loss: 0.1484 - val_accuracy: 0.9565\n",
      "Epoch 2/5\n",
      "1875/1875 [==============================] - 2s 1ms/step - loss: 0.1244 - accuracy: 0.9633 - val_loss: 0.1039 - val_accuracy: 0.9699\n",
      "Epoch 3/5\n",
      "1875/1875 [==============================] - 2s 1ms/step - loss: 0.0863 - accuracy: 0.9743 - val_loss: 0.0899 - val_accuracy: 0.9738\n",
      "Epoch 4/5\n",
      "1875/1875 [==============================] - 2s 1ms/step - loss: 0.0649 - accuracy: 0.9804 - val_loss: 0.0826 - val_accuracy: 0.9744\n",
      "Epoch 5/5\n",
      "1875/1875 [==============================] - 2s 1ms/step - loss: 0.0524 - accuracy: 0.9840 - val_loss: 0.0825 - val_accuracy: 0.9758\n"
     ]
    }
   ],
   "source": [
    "history = model.fit(train_norm, trainY, epochs=5, batch_size=32, validation_data=(test_norm, testY), verbose=1)"
   ]
  },
  {
   "cell_type": "code",
   "execution_count": 23,
   "id": "09e08099-f678-40ff-a0b5-8decefb00926",
   "metadata": {},
   "outputs": [],
   "source": [
    "model.save('ffnn_model.h5')"
   ]
  },
  {
   "cell_type": "markdown",
   "id": "b8960679-42d1-4b1d-bcf3-ce33e51bc03a",
   "metadata": {},
   "source": [
    "## Model with data augmentation"
   ]
  },
  {
   "cell_type": "code",
   "execution_count": 58,
   "id": "8d2d92e2-5467-4428-9730-6d772c578a0f",
   "metadata": {},
   "outputs": [
    {
     "name": "stdout",
     "output_type": "stream",
     "text": [
      "Model: \"sequential_16\"\n",
      "_________________________________________________________________\n",
      " Layer (type)                Output Shape              Param #   \n",
      "=================================================================\n",
      " conv2d_13 (Conv2D)          (None, 28, 28, 32)        320       \n",
      "                                                                 \n",
      " activation (Activation)     (None, 28, 28, 32)        0         \n",
      "                                                                 \n",
      " conv2d_14 (Conv2D)          (None, 28, 28, 32)        9248      \n",
      "                                                                 \n",
      " activation_1 (Activation)   (None, 28, 28, 32)        0         \n",
      "                                                                 \n",
      " max_pooling2d_10 (MaxPoolin  (None, 14, 14, 32)       0         \n",
      " g2D)                                                            \n",
      "                                                                 \n",
      " conv2d_15 (Conv2D)          (None, 14, 14, 64)        18496     \n",
      "                                                                 \n",
      " activation_2 (Activation)   (None, 14, 14, 64)        0         \n",
      "                                                                 \n",
      " conv2d_16 (Conv2D)          (None, 14, 14, 64)        36928     \n",
      "                                                                 \n",
      " activation_3 (Activation)   (None, 14, 14, 64)        0         \n",
      "                                                                 \n",
      " average_pooling2d (AverageP  (None, 7, 7, 64)         0         \n",
      " ooling2D)                                                       \n",
      "                                                                 \n",
      " conv2d_17 (Conv2D)          (None, 7, 7, 128)         73856     \n",
      "                                                                 \n",
      " activation_4 (Activation)   (None, 7, 7, 128)         0         \n",
      "                                                                 \n",
      " conv2d_18 (Conv2D)          (None, 7, 7, 128)         147584    \n",
      "                                                                 \n",
      " activation_5 (Activation)   (None, 7, 7, 128)         0         \n",
      "                                                                 \n",
      " max_pooling2d_11 (MaxPoolin  (None, 3, 3, 128)        0         \n",
      " g2D)                                                            \n",
      "                                                                 \n",
      " conv2d_19 (Conv2D)          (None, 3, 3, 256)         295168    \n",
      "                                                                 \n",
      " activation_6 (Activation)   (None, 3, 3, 256)         0         \n",
      "                                                                 \n",
      " conv2d_20 (Conv2D)          (None, 3, 3, 256)         590080    \n",
      "                                                                 \n",
      " activation_7 (Activation)   (None, 3, 3, 256)         0         \n",
      "                                                                 \n",
      " average_pooling2d_1 (Averag  (None, 1, 1, 256)        0         \n",
      " ePooling2D)                                                     \n",
      "                                                                 \n",
      " flatten_11 (Flatten)        (None, 256)               0         \n",
      "                                                                 \n",
      " dense_22 (Dense)            (None, 10)                2570      \n",
      "                                                                 \n",
      "=================================================================\n",
      "Total params: 1,174,250\n",
      "Trainable params: 1,174,250\n",
      "Non-trainable params: 0\n",
      "_________________________________________________________________\n"
     ]
    }
   ],
   "source": [
    "model = Sequential()\n",
    "\n",
    "model.add(Conv2D(32,(3,3), input_shape=(28,28,1), padding='same'))\n",
    "model.add(Activation('relu'))\n",
    "\n",
    "model.add(Conv2D(32,(3,3), input_shape=(28,28,1), padding='same'))\n",
    "model.add(Activation('relu'))\n",
    "\n",
    "model.add(MaxPooling2D(pool_size=(2,2)))\n",
    "\n",
    "model.add(Conv2D(64,(3,3), padding='same'))\n",
    "model.add(Activation('relu'))\n",
    "\n",
    "model.add(Conv2D(64,(3,3), padding='same'))\n",
    "model.add(Activation('relu'))\n",
    "\n",
    "model.add(AveragePooling2D(pool_size=(2)))\n",
    "\n",
    "model.add(Conv2D(128,(3,3), padding='same'))\n",
    "model.add(Activation('relu'))\n",
    "\n",
    "model.add(Conv2D(128,(3,3), padding='same'))\n",
    "model.add(Activation('relu'))\n",
    "\n",
    "model.add(MaxPooling2D(pool_size=(2,2)))\n",
    "\n",
    "model.add(Conv2D(256,(3,3), padding='same'))\n",
    "model.add(Activation('relu'))\n",
    "\n",
    "model.add(Conv2D(256,(3,3), padding='same'))\n",
    "model.add(Activation('relu'))\n",
    "\n",
    "model.add(AveragePooling2D(pool_size=(2,2)))\n",
    "\n",
    "model.add(Flatten())\n",
    "model.add(Dense(10, activation='softmax'))\n",
    "\n",
    "model.summary()"
   ]
  },
  {
   "cell_type": "code",
   "execution_count": 59,
   "id": "e48197d0-1594-42c1-9ce9-a896349273ec",
   "metadata": {},
   "outputs": [],
   "source": [
    "datagen = keras.preprocessing.image.ImageDataGenerator(\n",
    "    width_shift_range=0.4,\n",
    "    height_shift_range=0.4,\n",
    "    validation_split=0.2)"
   ]
  },
  {
   "cell_type": "code",
   "execution_count": 60,
   "id": "572bbe84-5d30-4b0c-9ac9-53739f8e64d7",
   "metadata": {},
   "outputs": [],
   "source": [
    "datagen.fit(train_norm)\n",
    "\n",
    "train_generator = datagen.flow(train_norm, trainY, batch_size=64, shuffle=True, \n",
    "                               seed=2, save_to_dir=None, subset='training')\n",
    "\n",
    "validation_generator = datagen.flow(train_norm, trainY, batch_size=64, shuffle=True, \n",
    "                               seed=2, save_to_dir=None, subset='validation')"
   ]
  },
  {
   "cell_type": "markdown",
   "id": "eac8d08f-3f8e-4e2f-883d-14f6053c5353",
   "metadata": {},
   "source": [
    "This training may take longer than the others. You will need roughly 5-10 epochs to get a good enough result."
   ]
  },
  {
   "cell_type": "code",
   "execution_count": null,
   "id": "d0388616-6bc8-4f1e-8736-939fb2d9732b",
   "metadata": {},
   "outputs": [
    {
     "name": "stdout",
     "output_type": "stream",
     "text": [
      "Epoch 1/5\n",
      "600/600 [==============================] - 62s 102ms/step - loss: 0.2332 - accuracy: 0.9293 - val_loss: 0.1983 - val_accuracy: 0.9403\n",
      "Epoch 2/5\n",
      "600/600 [==============================] - 66s 109ms/step - loss: 0.1574 - accuracy: 0.9507 - val_loss: 0.1436 - val_accuracy: 0.9570\n",
      "Epoch 3/5\n",
      "600/600 [==============================] - 68s 114ms/step - loss: 0.1347 - accuracy: 0.9600 - val_loss: 0.1179 - val_accuracy: 0.9660\n",
      "Epoch 4/5\n",
      "600/600 [==============================] - 63s 105ms/step - loss: 0.1204 - accuracy: 0.9640 - val_loss: 0.1398 - val_accuracy: 0.9666\n",
      "Epoch 5/5\n",
      "314/600 [==============>...............] - ETA: 27s - loss: 0.1174 - accuracy: 0.9662"
     ]
    }
   ],
   "source": [
    "epochs = 5\n",
    "model.compile(loss='categorical_crossentropy',optimizer='rmsprop', metrics=['accuracy'])\n",
    "model.fit(train_generator, steps_per_epoch = 600, epochs=epochs,\n",
    "          validation_data = validation_generator,\n",
    "          validation_steps = 150)"
   ]
  },
  {
   "cell_type": "code",
   "execution_count": null,
   "id": "1f9b4fb2-f56b-4c53-b9ab-ef7d4f1f1467",
   "metadata": {},
   "outputs": [],
   "source": [
    "model.save('cnn_augm_model.h5')"
   ]
  },
  {
   "cell_type": "code",
   "execution_count": null,
   "id": "37d9c283-208f-4968-9805-e35fd6cb7b26",
   "metadata": {},
   "outputs": [],
   "source": []
  }
 ],
 "metadata": {
  "kernelspec": {
   "display_name": "Python 3 (ipykernel)",
   "language": "python",
   "name": "python3"
  },
  "language_info": {
   "codemirror_mode": {
    "name": "ipython",
    "version": 3
   },
   "file_extension": ".py",
   "mimetype": "text/x-python",
   "name": "python",
   "nbconvert_exporter": "python",
   "pygments_lexer": "ipython3",
   "version": "3.7.2"
  }
 },
 "nbformat": 4,
 "nbformat_minor": 5
}
