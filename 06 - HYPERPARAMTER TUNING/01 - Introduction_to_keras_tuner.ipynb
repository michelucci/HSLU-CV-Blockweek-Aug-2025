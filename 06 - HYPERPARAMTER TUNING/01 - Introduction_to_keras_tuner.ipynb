{
 "cells": [
  {
   "cell_type": "markdown",
   "metadata": {
    "id": "Tce3stUlHN0L"
   },
   "source": [
    "# Introduction to Keras Tuner\n",
    "\n",
    "Adapted and expanded from the original code by Umberto Michelucci.\n",
    "\n",
    "Original code Copyright 2020 The TensorFlow Authors"
   ]
  },
  {
   "cell_type": "code",
   "execution_count": 1,
   "metadata": {
    "cellView": "form",
    "execution": {
     "iopub.execute_input": "2023-12-07T03:19:58.040143Z",
     "iopub.status.busy": "2023-12-07T03:19:58.039470Z",
     "iopub.status.idle": "2023-12-07T03:19:58.043698Z",
     "shell.execute_reply": "2023-12-07T03:19:58.043061Z"
    },
    "id": "tuOe1ymfHZPu"
   },
   "outputs": [],
   "source": [
    "#@title Licensed under the Apache License, Version 2.0 (the \"License\");\n",
    "# you may not use this file except in compliance with the License.\n",
    "# You may obtain a copy of the License at\n",
    "#\n",
    "# https://www.apache.org/licenses/LICENSE-2.0\n",
    "#\n",
    "# Unless required by applicable law or agreed to in writing, software\n",
    "# distributed under the License is distributed on an \"AS IS\" BASIS,\n",
    "# WITHOUT WARRANTIES OR CONDITIONS OF ANY KIND, either express or implied.\n",
    "# See the License for the specific language governing permissions and\n",
    "# limitations under the License."
   ]
  },
  {
   "cell_type": "markdown",
   "metadata": {
    "id": "qFdPvlXBOdUN"
   },
   "source": [
    "# Introduction to the Keras Tuner"
   ]
  },
  {
   "cell_type": "markdown",
   "metadata": {
    "id": "xHxb-dlhMIzW"
   },
   "source": [
    "## Overview\n",
    "\n",
    "`keras.tuner` is a module within the Keras ecosystem, a popular open-source library for deep learning in Python. The primary purpose of `keras.tuner` is to perform hyperparameter tuning for Keras models, which is an essential step in optimizing machine learning models for better performance.\n",
    "\n",
    "Here are the key aspects of `keras.tuner`:\n",
    "\n",
    "1. **Functionality**: `keras.tuner` provides a simple and efficient way to find the best hyperparameter values for your Keras models. Hyperparameters include choices about the number of layers, their types, the number of neurons in each layer, learning rate, activation functions, and more.\n",
    "\n",
    "2. **Tuners Available**: It offers several tuning algorithms, including Random Search, Hyperband, and Bayesian Optimization. Each of these tuners has its own strategy for exploring the hyperparameter space.\n",
    "   - **Random Search**: Tests a random selection of hyperparameter values within the predefined search space.\n",
    "   - **Hyperband**: An optimized version of random search which uses adaptive resource allocation and early-stopping to quickly converge on a high-performing model.\n",
    "   - **Bayesian Optimization**: Models the function mapping from hyperparameters to a target score and uses this model to select promising hyperparameters to evaluate in the real world.\n",
    "\n",
    "3. **Ease of Integration**: Designed to integrate seamlessly with Keras models, `keras.tuner` makes it relatively straightforward to add hyperparameter tuning to your existing model-building workflow.\n",
    "\n",
    "4. **Customization**: Users can define their own search space for hyperparameters, allowing for extensive customization and experimentation. This includes setting parameters like the number of layers, the number of units in each layer, learning rates, and other model hyperparameters.\n",
    "\n",
    "5. **Search Process**: During the search process, `keras.tuner` systematically tests different combinations of hyperparameters to find the combination that yields the best performance on a validation dataset.\n",
    "\n",
    "6. **Results Analysis**: After the tuning process, it provides detailed results about each trial (set of hyperparameters) including its performance, which can be analyzed to understand how different hyperparameters affect model performance.\n",
    "\n",
    "7. **Practical Applications**: `keras.tuner` is widely used in deep learning projects where finding the right set of hyperparameters is crucial for model performance, such as in image recognition, natural language processing, and predictive modeling.\n"
   ]
  },
  {
   "cell_type": "markdown",
   "metadata": {
    "id": "MUXex9ctTuDB"
   },
   "source": [
    "## Setup"
   ]
  },
  {
   "cell_type": "code",
   "execution_count": 3,
   "metadata": {
    "execution": {
     "iopub.execute_input": "2023-12-07T03:19:58.047090Z",
     "iopub.status.busy": "2023-12-07T03:19:58.046855Z",
     "iopub.status.idle": "2023-12-07T03:20:00.418703Z",
     "shell.execute_reply": "2023-12-07T03:20:00.418001Z"
    },
    "id": "IqR2PQG4ZaZ0"
   },
   "outputs": [],
   "source": [
    "import tensorflow as tf\n",
    "from tensorflow import keras"
   ]
  },
  {
   "cell_type": "code",
   "execution_count": 4,
   "metadata": {},
   "outputs": [
    {
     "name": "stdout",
     "output_type": "stream",
     "text": [
      "2.13.0\n"
     ]
    }
   ],
   "source": [
    "print(tf.__version__)"
   ]
  },
  {
   "cell_type": "markdown",
   "metadata": {
    "id": "g83Lwsy-Aq2_"
   },
   "source": [
    "Install and import the Keras Tuner."
   ]
  },
  {
   "cell_type": "code",
   "execution_count": 5,
   "metadata": {
    "execution": {
     "iopub.execute_input": "2023-12-07T03:20:00.423105Z",
     "iopub.status.busy": "2023-12-07T03:20:00.422681Z",
     "iopub.status.idle": "2023-12-07T03:20:02.778604Z",
     "shell.execute_reply": "2023-12-07T03:20:02.777563Z"
    },
    "id": "hpMLpbt9jcO6"
   },
   "outputs": [],
   "source": [
    "# Run this only if necessary\n",
    "!pip install -q -U keras-tuner"
   ]
  },
  {
   "cell_type": "code",
   "execution_count": 6,
   "metadata": {
    "execution": {
     "iopub.execute_input": "2023-12-07T03:20:02.783518Z",
     "iopub.status.busy": "2023-12-07T03:20:02.782775Z",
     "iopub.status.idle": "2023-12-07T03:20:03.130579Z",
     "shell.execute_reply": "2023-12-07T03:20:03.129567Z"
    },
    "id": "_leAIdFKAxAD"
   },
   "outputs": [],
   "source": [
    "import keras_tuner as kt"
   ]
  },
  {
   "cell_type": "markdown",
   "metadata": {
    "id": "ReV_UXOgCZvx"
   },
   "source": [
    "## Download and prepare the dataset\n",
    "\n",
    "In this tutorial, you will use the Keras Tuner to find the best hyperparameters for a machine learning model that classifies images of clothing from the [Fashion MNIST dataset](https://github.com/zalandoresearch/fashion-mnist)."
   ]
  },
  {
   "cell_type": "markdown",
   "metadata": {},
   "source": [
    "## Dataset Description\n",
    "\n",
    "The Zalando MNIST dataset, also known as the Fashion-MNIST dataset, is a dataset comprising of 70,000 grayscale images of 10 different fashion products from Zalando, a large European e-commerce company. It was created as a more challenging replacement for the traditional MNIST dataset of handwritten digits. Here are some key details about the Fashion-MNIST dataset:\n",
    "\n",
    "1. **Content**: The dataset contains 70,000 grayscale images, each 28x28 pixels, divided into 10 fashion categories such as T-shirts/tops, trousers, pullovers, dresses, coats, sandals, shirts, sneakers, bags, and ankle boots.\n",
    "\n",
    "2. **Training and Testing Split**: Similar to the original MNIST, it includes 60,000 training images and 10,000 test images. This standard split facilitates consistent evaluation of machine learning models.\n",
    "\n",
    "3. **Purpose**: Fashion-MNIST was designed to serve as a direct drop-in replacement for the original MNIST dataset for benchmarking machine learning algorithms. It introduces more complexity compared to the original MNIST, making it a better representative of modern computer vision tasks.\n",
    "\n",
    "4. **Use Cases**: It's widely used for machine learning and computer vision tasks like classification, image recognition, and machine learning model performance evaluation.\n",
    "\n",
    "5. **Accessibility and Usability**: Like MNIST, Fashion-MNIST is easily accessible and can be used with common machine learning libraries. It's suitable for both beginners and advanced researchers, providing a more challenging dataset than MNIST while maintaining a similar size and structure.\n",
    "\n",
    "6. **Benchmarking**: Since its introduction, Fashion-MNIST has been adopted by the machine learning community as a benchmark dataset, often used in academic papers and machine learning competitions to evaluate the performance of various algorithms.\n",
    "\n",
    "7. **Educational Value**: For educational purposes, Fashion-MNIST offers a more complex challenge than MNIST while being more comprehensible and visually interpretable than more complex datasets like ImageNet."
   ]
  },
  {
   "cell_type": "markdown",
   "metadata": {
    "id": "HljH_ENLEdHa"
   },
   "source": [
    "Load the data."
   ]
  },
  {
   "cell_type": "code",
   "execution_count": 7,
   "metadata": {
    "execution": {
     "iopub.execute_input": "2023-12-07T03:20:03.136168Z",
     "iopub.status.busy": "2023-12-07T03:20:03.135094Z",
     "iopub.status.idle": "2023-12-07T03:20:03.542925Z",
     "shell.execute_reply": "2023-12-07T03:20:03.542192Z"
    },
    "id": "OHlHs9Wj_PUM"
   },
   "outputs": [
    {
     "name": "stdout",
     "output_type": "stream",
     "text": [
      "Downloading data from https://storage.googleapis.com/tensorflow/tf-keras-datasets/train-labels-idx1-ubyte.gz\n",
      "29515/29515 [==============================] - 0s 2us/step\n",
      "Downloading data from https://storage.googleapis.com/tensorflow/tf-keras-datasets/train-images-idx3-ubyte.gz\n",
      "26421880/26421880 [==============================] - 1s 0us/step\n",
      "Downloading data from https://storage.googleapis.com/tensorflow/tf-keras-datasets/t10k-labels-idx1-ubyte.gz\n",
      "5148/5148 [==============================] - 0s 0us/step\n",
      "Downloading data from https://storage.googleapis.com/tensorflow/tf-keras-datasets/t10k-images-idx3-ubyte.gz\n",
      "4422102/4422102 [==============================] - 1s 0us/step\n"
     ]
    }
   ],
   "source": [
    "(img_train, label_train), (img_test, label_test) = keras.datasets.fashion_mnist.load_data()"
   ]
  },
  {
   "cell_type": "code",
   "execution_count": 8,
   "metadata": {
    "execution": {
     "iopub.execute_input": "2023-12-07T03:20:03.547320Z",
     "iopub.status.busy": "2023-12-07T03:20:03.546629Z",
     "iopub.status.idle": "2023-12-07T03:20:03.646142Z",
     "shell.execute_reply": "2023-12-07T03:20:03.645354Z"
    },
    "id": "bLVhXs3xrUD0"
   },
   "outputs": [],
   "source": [
    "# Normalize pixel values between 0 and 1\n",
    "img_train = img_train.astype('float32') / 255.0\n",
    "img_test = img_test.astype('float32') / 255.0"
   ]
  },
  {
   "cell_type": "markdown",
   "metadata": {
    "id": "K5YEL2H2Ax3e"
   },
   "source": [
    "## Define the model\n",
    "\n",
    "When you build a model for hypertuning, you also define the hyperparameter search space in addition to the model architecture. The model you set up for hypertuning is called a *hypermodel*.\n",
    "\n",
    "You can define a hypermodel through two approaches:\n",
    "\n",
    "* By using a model builder function\n",
    "* By subclassing the `HyperModel` class of the Keras Tuner API\n",
    "\n",
    "You can also use two pre-defined [HyperModel](https://keras.io/api/keras_tuner/hypermodels/) classes - [HyperXception](https://keras.io/api/keras_tuner/hypermodels/hyper_xception/) and [HyperResNet](https://keras.io/api/keras_tuner/hypermodels/hyper_resnet/) for computer vision applications.\n",
    "\n",
    "In this tutorial, you use a model builder function to define the image classification model. The model builder function returns a compiled model and uses hyperparameters you define inline to hypertune the model."
   ]
  },
  {
   "cell_type": "code",
   "execution_count": 9,
   "metadata": {
    "execution": {
     "iopub.execute_input": "2023-12-07T03:20:03.650529Z",
     "iopub.status.busy": "2023-12-07T03:20:03.650216Z",
     "iopub.status.idle": "2023-12-07T03:20:03.655939Z",
     "shell.execute_reply": "2023-12-07T03:20:03.655314Z"
    },
    "id": "ZQKodC-jtsva"
   },
   "outputs": [],
   "source": [
    "def model_builder(hp):\n",
    "  model = keras.Sequential()\n",
    "  model.add(keras.layers.Flatten(input_shape=(28, 28)))\n",
    "\n",
    "  # Tune the number of units in the first Dense layer\n",
    "  # Choose an optimal value between 32-512\n",
    "  hp_units = hp.Int('units', min_value=32, max_value=512, step=32)\n",
    "  model.add(keras.layers.Dense(units=hp_units, activation='relu'))\n",
    "  model.add(keras.layers.Dense(10))\n",
    "\n",
    "  # Tune the learning rate for the optimizer\n",
    "  # Choose an optimal value from 0.01, 0.001, or 0.0001\n",
    "  hp_learning_rate = hp.Choice('learning_rate', values=[1e-2, 1e-3, 1e-4])\n",
    "\n",
    "  model.compile(optimizer=keras.optimizers.Adam(learning_rate=hp_learning_rate),\n",
    "                loss=keras.losses.SparseCategoricalCrossentropy(from_logits=True),\n",
    "                metrics=['accuracy'])\n",
    "\n",
    "  return model"
   ]
  },
  {
   "cell_type": "markdown",
   "metadata": {
    "id": "0J1VYw4q3x0b"
   },
   "source": [
    "## Hyperparameter with Hyperband\n",
    "\n",
    "Instantiate the tuner to perform the hypertuning. The Keras Tuner has four tuners available - `RandomSearch`, `Hyperband`, `BayesianOptimization`, and `Sklearn`. In this tutorial, we use the [Hyperband](https://arxiv.org/pdf/1603.06560.pdf) tuner.\n",
    "\n",
    "To instantiate the Hyperband tuner, you must specify the hypermodel, the `objective` to optimize and the maximum number of epochs to train (`max_epochs`).\n",
    "\n",
    "Hyperband in Keras, specifically integrated through `keras.tuner`, is an implementation of the Hyperband hyperparameter tuning algorithm designed for optimizing hyperparameters in Keras models. It's an advanced, efficient method particularly suited for large hyperparameter spaces and complex models. Here's a detailed description of Hyperband in the context of Keras:\n",
    "\n",
    "1. **Algorithm Overview**: \n",
    "   - Hyperband is based on the concept of adaptive resource allocation and early-stopping. It is an extension of Random Search but incorporates a systematic way to decide how many resources (like epochs) to allocate to each trial (set of hyperparameters) and when to stop underperforming trials.\n",
    "\n",
    "2. **Efficient Exploration**: \n",
    "   - Unlike traditional methods that evaluate each hyperparameter combination for a fixed amount of resources, Hyperband dynamically allocates resources. It starts by evaluating many configurations with a small amount of resources and progressively gives more resources to promising configurations in subsequent rounds.\n",
    "\n",
    "3. **Integration with Keras**: \n",
    "   - In Keras, `Hyperband` is provided through the `keras.tuner` module. It is designed to work seamlessly with Keras models, allowing for easy specification of the model architecture and the hyperparameters to tune.\n",
    "\n",
    "4. **Key Parameters**: \n",
    "   - `max_epochs`: The maximum number of epochs to train a single model. It's the upper limit of resources that Hyperband can allocate to any trial.\n",
    "   - `objective`: The metric to be optimized, which could be a standard metric like accuracy or a custom-defined function.\n",
    "   - `factor`: The reduction factor that decides how much the number of configurations is reduced in each round.\n",
    "   - `hyperband_iterations`: The number of times to run the hyperband algorithm (each with different random seeds).\n",
    "\n",
    "5. **Process**: \n",
    "   - Hyperband runs in a series of \"brackets\". Each bracket comprises multiple rounds of training and evaluation, where each subsequent round trains fewer models for more epochs.\n",
    "   - Initially, a large number of models are trained for a small number of epochs. Only the top-performing models (as per the specified `objective`) proceed to the next round, where they are trained for longer. This process repeats, reducing the number of models and increasing the epochs each time, until the best-performing models are identified.\n",
    "\n",
    "6. **Advantages**: \n",
    "   - Hyperband is particularly effective when dealing with large datasets and complex models because it quickly discards poor-performing configurations.\n",
    "   - It can significantly reduce the computational cost and time required for hyperparameter tuning compared to traditional methods.\n",
    "\n",
    "7. **Usage in Keras**: \n",
    "   - To use Hyperband in Keras, you define a model-building function, specify the hyperparameter space, and then pass these to the `Hyperband` tuner. The tuner then manages the training and evaluation process, providing you with the best hyperparameters found.\n"
   ]
  },
  {
   "cell_type": "code",
   "execution_count": 10,
   "metadata": {
    "execution": {
     "iopub.execute_input": "2023-12-07T03:20:03.659627Z",
     "iopub.status.busy": "2023-12-07T03:20:03.658917Z",
     "iopub.status.idle": "2023-12-07T03:20:05.979646Z",
     "shell.execute_reply": "2023-12-07T03:20:05.978757Z"
    },
    "id": "oichQFly6Y46"
   },
   "outputs": [
    {
     "name": "stderr",
     "output_type": "stream",
     "text": [
      "WARNING:absl:At this time, the v2.11+ optimizer `tf.keras.optimizers.Adam` runs slowly on M1/M2 Macs, please use the legacy Keras optimizer instead, located at `tf.keras.optimizers.legacy.Adam`.\n",
      "WARNING:absl:There is a known slowdown when using v2.11+ Keras optimizers on M1/M2 Macs. Falling back to the legacy Keras optimizer, i.e., `tf.keras.optimizers.legacy.Adam`.\n"
     ]
    }
   ],
   "source": [
    "tuner = kt.Hyperband(model_builder,\n",
    "                     objective='val_accuracy',\n",
    "                     max_epochs=10,\n",
    "                     factor=3,\n",
    "                     directory='my_dir',\n",
    "                     project_name='intro_to_kt')"
   ]
  },
  {
   "cell_type": "markdown",
   "metadata": {
    "id": "VaIhhdKf9VtI"
   },
   "source": [
    "The Hyperband tuning algorithm uses adaptive resource allocation and early-stopping to quickly converge on a high-performing model. This is done using a sports championship style bracket. The algorithm trains a large number of models for a few epochs and carries forward only the top-performing half of models to the next round. Hyperband determines the number of models to train in a bracket by computing 1 + log<sub>`factor`</sub>(`max_epochs`) and rounding it up to the nearest integer.\n",
    "\n",
    "Early stopping is a regularization technique (not quite but let's go with that) used in training neural networks to prevent overfitting. It involves monitoring the performance of the model on a validation dataset and stopping the training process when the performance starts to degrade or stops improving. Here's a detailed description of the early stopping approach:\n",
    "\n",
    "1. **Objective**: The primary goal of early stopping is to halt the training at the point when the model is generalized enough to perform well on unseen data, but before it starts to overfit the training data.\n",
    "\n",
    "2. **How It Works**:\n",
    "   - During training, the model's performance is continually evaluated on a separate validation dataset that is not used for the actual training.\n",
    "   - After each epoch (or a set number of epochs), the algorithm checks how the model's performance on the validation set has changed.\n",
    "   - If the model's performance on the validation set improves or remains the same, training continues.\n",
    "   - If the model's performance on the validation set starts to worsen (e.g., the validation loss starts to increase), it's a sign that the model may be beginning to overfit the training data.\n",
    "\n",
    "3. **Stopping Criteria**:\n",
    "   - A common criterion is to stop training when the validation loss has not decreased for a specified number of epochs, often referred to as the \"patience\" parameter.\n",
    "   - Alternatively, training can be stopped based on other metrics, such as accuracy or F1 score, depending on the specific task.\n",
    "\n",
    "4. **Restoring the Best Model**:\n",
    "   - When early stopping is triggered, it's common practice to restore the weights of the model to the state when it performed the best on the validation set. This ensures that the model retains the generalization capability it had before it started overfitting.\n",
    "\n",
    "5. **Benefits**:\n",
    "   - **Prevents Overfitting**: By stopping the training before the model overfits the data, early stopping helps in maintaining the model's ability to generalize to new data.\n",
    "   - **Saves Time and Resources**: It reduces the number of unnecessary training epochs, saving computational resources and time.\n",
    "   - **Automatic and Simple**: It's an automated approach that doesn't require manual intervention and is easy to implement in most deep learning frameworks.\n",
    "\n",
    "6. **Implementation in Deep Learning Frameworks**:\n",
    "   - Early stopping is supported in many deep learning frameworks as a built-in function. In frameworks like TensorFlow/Keras, it is implemented as a callback function that can be easily added to the training process.\n",
    "\n",
    "7. **Tuning Early Stopping**:\n",
    "   - The patience parameter and the specific metric to monitor are crucial aspects of early stopping and may require tuning based on the dataset and problem.\n"
   ]
  },
  {
   "cell_type": "markdown",
   "metadata": {
    "id": "cwhBdXx0Ekj8"
   },
   "source": [
    "Create a callback to stop training early after reaching a certain value for the validation loss."
   ]
  },
  {
   "cell_type": "code",
   "execution_count": 11,
   "metadata": {
    "execution": {
     "iopub.execute_input": "2023-12-07T03:20:05.984275Z",
     "iopub.status.busy": "2023-12-07T03:20:05.983977Z",
     "iopub.status.idle": "2023-12-07T03:20:05.987832Z",
     "shell.execute_reply": "2023-12-07T03:20:05.987132Z"
    },
    "id": "WT9IkS9NEjLc"
   },
   "outputs": [],
   "source": [
    "stop_early = tf.keras.callbacks.EarlyStopping(monitor='val_loss', patience=5)"
   ]
  },
  {
   "cell_type": "markdown",
   "metadata": {
    "id": "UKghEo15Tduy"
   },
   "source": [
    "Run the hyperparameter search. The arguments for the search method are the same as those used for `tf.keras.model.fit` in addition to the callback above."
   ]
  },
  {
   "cell_type": "code",
   "execution_count": 12,
   "metadata": {
    "execution": {
     "iopub.execute_input": "2023-12-07T03:20:05.991445Z",
     "iopub.status.busy": "2023-12-07T03:20:05.990814Z",
     "iopub.status.idle": "2023-12-07T03:28:48.512022Z",
     "shell.execute_reply": "2023-12-07T03:28:48.511228Z"
    },
    "id": "dSBQcTHF9cKt"
   },
   "outputs": [
    {
     "name": "stdout",
     "output_type": "stream",
     "text": [
      "Trial 30 Complete [00h 00m 14s]\n",
      "val_accuracy: 0.8774999976158142\n",
      "\n",
      "Best val_accuracy So Far: 0.8931666612625122\n",
      "Total elapsed time: 00h 02m 28s\n",
      "\n",
      "The hyperparameter search is complete. The optimal number of units in the first densely-connected\n",
      "layer is 352 and the optimal learning rate for the optimizer\n",
      "is 0.001.\n",
      "\n"
     ]
    }
   ],
   "source": [
    "#\n",
    "#\n",
    "# CAREFUL: IT TAKES SOME TIME!\n",
    "#\n",
    "#\n",
    "tuner.search(img_train, label_train, epochs=50, validation_split=0.2, callbacks=[stop_early])\n",
    "\n",
    "# Get the optimal hyperparameters\n",
    "best_hps=tuner.get_best_hyperparameters(num_trials=1)[0]\n",
    "\n",
    "print(f\"\"\"\n",
    "The hyperparameter search is complete. The optimal number of units in the first densely-connected\n",
    "layer is {best_hps.get('units')} and the optimal learning rate for the optimizer\n",
    "is {best_hps.get('learning_rate')}.\n",
    "\"\"\")"
   ]
  },
  {
   "cell_type": "markdown",
   "metadata": {
    "id": "Lak_ylf88xBv"
   },
   "source": [
    "## Train the model\n",
    "\n",
    "Find the optimal number of epochs to train the model with the hyperparameters obtained from the search."
   ]
  },
  {
   "cell_type": "code",
   "execution_count": 13,
   "metadata": {
    "execution": {
     "iopub.execute_input": "2023-12-07T03:28:48.515436Z",
     "iopub.status.busy": "2023-12-07T03:28:48.515165Z",
     "iopub.status.idle": "2023-12-07T03:31:57.753169Z",
     "shell.execute_reply": "2023-12-07T03:31:57.752415Z"
    },
    "id": "McO82AXOuxXh"
   },
   "outputs": [
    {
     "name": "stderr",
     "output_type": "stream",
     "text": [
      "WARNING:absl:At this time, the v2.11+ optimizer `tf.keras.optimizers.Adam` runs slowly on M1/M2 Macs, please use the legacy Keras optimizer instead, located at `tf.keras.optimizers.legacy.Adam`.\n",
      "WARNING:absl:There is a known slowdown when using v2.11+ Keras optimizers on M1/M2 Macs. Falling back to the legacy Keras optimizer, i.e., `tf.keras.optimizers.legacy.Adam`.\n"
     ]
    },
    {
     "name": "stdout",
     "output_type": "stream",
     "text": [
      "Epoch 1/50\n",
      "1500/1500 [==============================] - 1s 934us/step - loss: 0.4938 - accuracy: 0.8249 - val_loss: 0.4951 - val_accuracy: 0.8191\n",
      "Epoch 2/50\n",
      "1500/1500 [==============================] - 1s 868us/step - loss: 0.3753 - accuracy: 0.8626 - val_loss: 0.4068 - val_accuracy: 0.8532\n",
      "Epoch 3/50\n",
      "1500/1500 [==============================] - 1s 887us/step - loss: 0.3364 - accuracy: 0.8770 - val_loss: 0.3570 - val_accuracy: 0.8692\n",
      "Epoch 4/50\n",
      "1500/1500 [==============================] - 1s 923us/step - loss: 0.3068 - accuracy: 0.8869 - val_loss: 0.3519 - val_accuracy: 0.8731\n",
      "Epoch 5/50\n",
      "1500/1500 [==============================] - 1s 856us/step - loss: 0.2902 - accuracy: 0.8919 - val_loss: 0.3571 - val_accuracy: 0.8728\n",
      "Epoch 6/50\n",
      "1500/1500 [==============================] - 1s 898us/step - loss: 0.2755 - accuracy: 0.8969 - val_loss: 0.3442 - val_accuracy: 0.8778\n",
      "Epoch 7/50\n",
      "1500/1500 [==============================] - 1s 879us/step - loss: 0.2604 - accuracy: 0.9016 - val_loss: 0.3329 - val_accuracy: 0.8792\n",
      "Epoch 8/50\n",
      "1500/1500 [==============================] - 1s 859us/step - loss: 0.2477 - accuracy: 0.9070 - val_loss: 0.3215 - val_accuracy: 0.8862\n",
      "Epoch 9/50\n",
      "1500/1500 [==============================] - 1s 840us/step - loss: 0.2380 - accuracy: 0.9107 - val_loss: 0.3356 - val_accuracy: 0.8837\n",
      "Epoch 10/50\n",
      "1500/1500 [==============================] - 1s 841us/step - loss: 0.2293 - accuracy: 0.9136 - val_loss: 0.3158 - val_accuracy: 0.8873\n",
      "Epoch 11/50\n",
      "1500/1500 [==============================] - 1s 859us/step - loss: 0.2212 - accuracy: 0.9165 - val_loss: 0.3382 - val_accuracy: 0.8817\n",
      "Epoch 12/50\n",
      "1500/1500 [==============================] - 1s 838us/step - loss: 0.2129 - accuracy: 0.9206 - val_loss: 0.3293 - val_accuracy: 0.8914\n",
      "Epoch 13/50\n",
      "1500/1500 [==============================] - 1s 844us/step - loss: 0.2048 - accuracy: 0.9221 - val_loss: 0.3551 - val_accuracy: 0.8767\n",
      "Epoch 14/50\n",
      "1500/1500 [==============================] - 1s 858us/step - loss: 0.1971 - accuracy: 0.9248 - val_loss: 0.3408 - val_accuracy: 0.8843\n",
      "Epoch 15/50\n",
      "1500/1500 [==============================] - 1s 840us/step - loss: 0.1894 - accuracy: 0.9293 - val_loss: 0.3318 - val_accuracy: 0.8907\n",
      "Epoch 16/50\n",
      "1500/1500 [==============================] - 1s 840us/step - loss: 0.1869 - accuracy: 0.9293 - val_loss: 0.3391 - val_accuracy: 0.8851\n",
      "Epoch 17/50\n",
      "1500/1500 [==============================] - 1s 844us/step - loss: 0.1783 - accuracy: 0.9324 - val_loss: 0.3480 - val_accuracy: 0.8878\n",
      "Epoch 18/50\n",
      "1500/1500 [==============================] - 1s 845us/step - loss: 0.1704 - accuracy: 0.9344 - val_loss: 0.3516 - val_accuracy: 0.8925\n",
      "Epoch 19/50\n",
      "1500/1500 [==============================] - 1s 828us/step - loss: 0.1639 - accuracy: 0.9373 - val_loss: 0.3662 - val_accuracy: 0.8891\n",
      "Epoch 20/50\n",
      "1500/1500 [==============================] - 1s 847us/step - loss: 0.1618 - accuracy: 0.9393 - val_loss: 0.3656 - val_accuracy: 0.8896\n",
      "Epoch 21/50\n",
      "1500/1500 [==============================] - 1s 846us/step - loss: 0.1565 - accuracy: 0.9414 - val_loss: 0.3679 - val_accuracy: 0.8904\n",
      "Epoch 22/50\n",
      "1500/1500 [==============================] - 1s 841us/step - loss: 0.1495 - accuracy: 0.9453 - val_loss: 0.3893 - val_accuracy: 0.8870\n",
      "Epoch 23/50\n",
      "1500/1500 [==============================] - 1s 834us/step - loss: 0.1489 - accuracy: 0.9439 - val_loss: 0.3682 - val_accuracy: 0.8956\n",
      "Epoch 24/50\n",
      "1500/1500 [==============================] - 1s 845us/step - loss: 0.1415 - accuracy: 0.9467 - val_loss: 0.3798 - val_accuracy: 0.8919\n",
      "Epoch 25/50\n",
      "1500/1500 [==============================] - 1s 846us/step - loss: 0.1346 - accuracy: 0.9506 - val_loss: 0.3823 - val_accuracy: 0.8886\n",
      "Epoch 26/50\n",
      "1500/1500 [==============================] - 1s 840us/step - loss: 0.1346 - accuracy: 0.9494 - val_loss: 0.3976 - val_accuracy: 0.8903\n",
      "Epoch 27/50\n",
      "1500/1500 [==============================] - 1s 847us/step - loss: 0.1291 - accuracy: 0.9525 - val_loss: 0.3882 - val_accuracy: 0.8931\n",
      "Epoch 28/50\n",
      "1500/1500 [==============================] - 1s 921us/step - loss: 0.1309 - accuracy: 0.9501 - val_loss: 0.4006 - val_accuracy: 0.8875\n",
      "Epoch 29/50\n",
      "1500/1500 [==============================] - 1s 987us/step - loss: 0.1219 - accuracy: 0.9543 - val_loss: 0.3890 - val_accuracy: 0.8923\n",
      "Epoch 30/50\n",
      "1500/1500 [==============================] - 1s 890us/step - loss: 0.1220 - accuracy: 0.9540 - val_loss: 0.3981 - val_accuracy: 0.8940\n",
      "Epoch 31/50\n",
      "1500/1500 [==============================] - 1s 857us/step - loss: 0.1178 - accuracy: 0.9556 - val_loss: 0.4278 - val_accuracy: 0.8896\n",
      "Epoch 32/50\n",
      "1500/1500 [==============================] - 1s 879us/step - loss: 0.1170 - accuracy: 0.9557 - val_loss: 0.4068 - val_accuracy: 0.8941\n",
      "Epoch 33/50\n",
      "1500/1500 [==============================] - 1s 868us/step - loss: 0.1097 - accuracy: 0.9586 - val_loss: 0.4483 - val_accuracy: 0.8846\n",
      "Epoch 34/50\n",
      "1500/1500 [==============================] - 1s 863us/step - loss: 0.1107 - accuracy: 0.9581 - val_loss: 0.4328 - val_accuracy: 0.8915\n",
      "Epoch 35/50\n",
      "1500/1500 [==============================] - 1s 853us/step - loss: 0.1068 - accuracy: 0.9595 - val_loss: 0.4335 - val_accuracy: 0.8917\n",
      "Epoch 36/50\n",
      "1500/1500 [==============================] - 1s 857us/step - loss: 0.1053 - accuracy: 0.9609 - val_loss: 0.4409 - val_accuracy: 0.8928\n",
      "Epoch 37/50\n",
      "1500/1500 [==============================] - 1s 849us/step - loss: 0.1022 - accuracy: 0.9621 - val_loss: 0.4666 - val_accuracy: 0.8863\n",
      "Epoch 38/50\n",
      "1500/1500 [==============================] - 1s 841us/step - loss: 0.0984 - accuracy: 0.9633 - val_loss: 0.4856 - val_accuracy: 0.8893\n",
      "Epoch 39/50\n",
      "1500/1500 [==============================] - 1s 848us/step - loss: 0.0971 - accuracy: 0.9629 - val_loss: 0.4546 - val_accuracy: 0.8932\n",
      "Epoch 40/50\n",
      "1500/1500 [==============================] - 1s 849us/step - loss: 0.0935 - accuracy: 0.9646 - val_loss: 0.5211 - val_accuracy: 0.8880\n",
      "Epoch 41/50\n",
      "1500/1500 [==============================] - 1s 843us/step - loss: 0.0934 - accuracy: 0.9649 - val_loss: 0.4778 - val_accuracy: 0.8915\n",
      "Epoch 42/50\n",
      "1500/1500 [==============================] - 1s 897us/step - loss: 0.0923 - accuracy: 0.9652 - val_loss: 0.4954 - val_accuracy: 0.8933\n",
      "Epoch 43/50\n",
      "1500/1500 [==============================] - 1s 852us/step - loss: 0.0886 - accuracy: 0.9668 - val_loss: 0.4590 - val_accuracy: 0.8926\n",
      "Epoch 44/50\n",
      "1500/1500 [==============================] - 1s 854us/step - loss: 0.0837 - accuracy: 0.9687 - val_loss: 0.4961 - val_accuracy: 0.8892\n",
      "Epoch 45/50\n",
      "1500/1500 [==============================] - 1s 881us/step - loss: 0.0863 - accuracy: 0.9676 - val_loss: 0.5152 - val_accuracy: 0.8928\n",
      "Epoch 46/50\n",
      "1500/1500 [==============================] - 1s 850us/step - loss: 0.0846 - accuracy: 0.9689 - val_loss: 0.5202 - val_accuracy: 0.8890\n",
      "Epoch 47/50\n",
      "1500/1500 [==============================] - 1s 841us/step - loss: 0.0819 - accuracy: 0.9693 - val_loss: 0.5225 - val_accuracy: 0.8896\n",
      "Epoch 48/50\n",
      "1500/1500 [==============================] - 1s 857us/step - loss: 0.0824 - accuracy: 0.9693 - val_loss: 0.5280 - val_accuracy: 0.8894\n",
      "Epoch 49/50\n",
      "1500/1500 [==============================] - 1s 848us/step - loss: 0.0801 - accuracy: 0.9700 - val_loss: 0.5344 - val_accuracy: 0.8907\n",
      "Epoch 50/50\n",
      "1500/1500 [==============================] - 1s 848us/step - loss: 0.0757 - accuracy: 0.9717 - val_loss: 0.5963 - val_accuracy: 0.8810\n",
      "Best epoch: 23\n"
     ]
    }
   ],
   "source": [
    "# Build the model with the optimal hyperparameters and train it on the data for 50 epochs\n",
    "model = tuner.hypermodel.build(best_hps)\n",
    "history = model.fit(img_train, label_train, epochs=50, validation_split=0.2)\n",
    "\n",
    "val_acc_per_epoch = history.history['val_accuracy']\n",
    "best_epoch = val_acc_per_epoch.index(max(val_acc_per_epoch)) + 1\n",
    "print('Best epoch: %d' % (best_epoch,))"
   ]
  },
  {
   "cell_type": "markdown",
   "metadata": {
    "id": "uOTSirSTI3Gp"
   },
   "source": [
    "Re-instantiate the hypermodel and train it with the optimal number of epochs from above."
   ]
  },
  {
   "cell_type": "code",
   "execution_count": 14,
   "metadata": {
    "execution": {
     "iopub.execute_input": "2023-12-07T03:31:57.757140Z",
     "iopub.status.busy": "2023-12-07T03:31:57.756644Z",
     "iopub.status.idle": "2023-12-07T03:34:44.271329Z",
     "shell.execute_reply": "2023-12-07T03:34:44.270534Z"
    },
    "id": "NoiPUEHmMhCe"
   },
   "outputs": [
    {
     "name": "stderr",
     "output_type": "stream",
     "text": [
      "WARNING:absl:At this time, the v2.11+ optimizer `tf.keras.optimizers.Adam` runs slowly on M1/M2 Macs, please use the legacy Keras optimizer instead, located at `tf.keras.optimizers.legacy.Adam`.\n",
      "WARNING:absl:There is a known slowdown when using v2.11+ Keras optimizers on M1/M2 Macs. Falling back to the legacy Keras optimizer, i.e., `tf.keras.optimizers.legacy.Adam`.\n"
     ]
    },
    {
     "name": "stdout",
     "output_type": "stream",
     "text": [
      "Epoch 1/23\n",
      "1500/1500 [==============================] - 1s 850us/step - loss: 0.4982 - accuracy: 0.8229 - val_loss: 0.4089 - val_accuracy: 0.8520\n",
      "Epoch 2/23\n",
      "1500/1500 [==============================] - 1s 821us/step - loss: 0.3726 - accuracy: 0.8646 - val_loss: 0.3812 - val_accuracy: 0.8595\n",
      "Epoch 3/23\n",
      "1500/1500 [==============================] - 1s 809us/step - loss: 0.3355 - accuracy: 0.8772 - val_loss: 0.3419 - val_accuracy: 0.8788\n",
      "Epoch 4/23\n",
      "1500/1500 [==============================] - 1s 815us/step - loss: 0.3081 - accuracy: 0.8865 - val_loss: 0.3501 - val_accuracy: 0.8776\n",
      "Epoch 5/23\n",
      "1500/1500 [==============================] - 1s 817us/step - loss: 0.2908 - accuracy: 0.8911 - val_loss: 0.3269 - val_accuracy: 0.8817\n",
      "Epoch 6/23\n",
      "1500/1500 [==============================] - 1s 824us/step - loss: 0.2733 - accuracy: 0.8980 - val_loss: 0.3357 - val_accuracy: 0.8780\n",
      "Epoch 7/23\n",
      "1500/1500 [==============================] - 1s 811us/step - loss: 0.2611 - accuracy: 0.9025 - val_loss: 0.3213 - val_accuracy: 0.8869\n",
      "Epoch 8/23\n",
      "1500/1500 [==============================] - 1s 815us/step - loss: 0.2472 - accuracy: 0.9062 - val_loss: 0.3183 - val_accuracy: 0.8878\n",
      "Epoch 9/23\n",
      "1500/1500 [==============================] - 1s 814us/step - loss: 0.2377 - accuracy: 0.9105 - val_loss: 0.3243 - val_accuracy: 0.8863\n",
      "Epoch 10/23\n",
      "1500/1500 [==============================] - 1s 826us/step - loss: 0.2289 - accuracy: 0.9147 - val_loss: 0.3115 - val_accuracy: 0.8919\n",
      "Epoch 11/23\n",
      "1500/1500 [==============================] - 1s 852us/step - loss: 0.2161 - accuracy: 0.9190 - val_loss: 0.3275 - val_accuracy: 0.8872\n",
      "Epoch 12/23\n",
      "1500/1500 [==============================] - 1s 823us/step - loss: 0.2107 - accuracy: 0.9221 - val_loss: 0.3094 - val_accuracy: 0.8914\n",
      "Epoch 13/23\n",
      "1500/1500 [==============================] - 1s 820us/step - loss: 0.2036 - accuracy: 0.9239 - val_loss: 0.3253 - val_accuracy: 0.8937\n",
      "Epoch 14/23\n",
      "1500/1500 [==============================] - 1s 819us/step - loss: 0.1936 - accuracy: 0.9264 - val_loss: 0.3478 - val_accuracy: 0.8830\n",
      "Epoch 15/23\n",
      "1500/1500 [==============================] - 1s 814us/step - loss: 0.1889 - accuracy: 0.9287 - val_loss: 0.3293 - val_accuracy: 0.8941\n",
      "Epoch 16/23\n",
      "1500/1500 [==============================] - 1s 823us/step - loss: 0.1834 - accuracy: 0.9311 - val_loss: 0.3436 - val_accuracy: 0.8886\n",
      "Epoch 17/23\n",
      "1500/1500 [==============================] - 1s 856us/step - loss: 0.1766 - accuracy: 0.9332 - val_loss: 0.3262 - val_accuracy: 0.8936\n",
      "Epoch 18/23\n",
      "1500/1500 [==============================] - 1s 814us/step - loss: 0.1689 - accuracy: 0.9363 - val_loss: 0.3496 - val_accuracy: 0.8933\n",
      "Epoch 19/23\n",
      "1500/1500 [==============================] - 1s 819us/step - loss: 0.1638 - accuracy: 0.9381 - val_loss: 0.3245 - val_accuracy: 0.8948\n",
      "Epoch 20/23\n",
      "1500/1500 [==============================] - 1s 819us/step - loss: 0.1594 - accuracy: 0.9398 - val_loss: 0.3391 - val_accuracy: 0.8915\n",
      "Epoch 21/23\n",
      "1500/1500 [==============================] - 1s 812us/step - loss: 0.1533 - accuracy: 0.9425 - val_loss: 0.3447 - val_accuracy: 0.8961\n",
      "Epoch 22/23\n",
      "1500/1500 [==============================] - 1s 810us/step - loss: 0.1522 - accuracy: 0.9429 - val_loss: 0.3737 - val_accuracy: 0.8867\n",
      "Epoch 23/23\n",
      "1500/1500 [==============================] - 1s 816us/step - loss: 0.1461 - accuracy: 0.9461 - val_loss: 0.3645 - val_accuracy: 0.8943\n"
     ]
    },
    {
     "data": {
      "text/plain": [
       "<keras.src.callbacks.History at 0x3c7873a90>"
      ]
     },
     "execution_count": 14,
     "metadata": {},
     "output_type": "execute_result"
    }
   ],
   "source": [
    "hypermodel = tuner.hypermodel.build(best_hps)\n",
    "\n",
    "# Retrain the model\n",
    "hypermodel.fit(img_train, label_train, epochs=best_epoch, validation_split=0.2)"
   ]
  },
  {
   "cell_type": "markdown",
   "metadata": {
    "id": "MqU5ZVAaag2v"
   },
   "source": [
    "To finish this tutorial, evaluate the hypermodel on the test data."
   ]
  },
  {
   "cell_type": "code",
   "execution_count": 15,
   "metadata": {
    "execution": {
     "iopub.execute_input": "2023-12-07T03:34:44.275340Z",
     "iopub.status.busy": "2023-12-07T03:34:44.274641Z",
     "iopub.status.idle": "2023-12-07T03:34:45.100071Z",
     "shell.execute_reply": "2023-12-07T03:34:45.099323Z"
    },
    "id": "9E0BTp9Ealjb"
   },
   "outputs": [
    {
     "name": "stdout",
     "output_type": "stream",
     "text": [
      "313/313 [==============================] - 0s 409us/step - loss: 0.4016 - accuracy: 0.8880\n",
      "[test loss, test accuracy]: [0.4016340672969818, 0.8880000114440918]\n"
     ]
    }
   ],
   "source": [
    "eval_result = hypermodel.evaluate(img_test, label_test)\n",
    "print(\"[test loss, test accuracy]:\", eval_result)"
   ]
  },
  {
   "cell_type": "markdown",
   "metadata": {
    "id": "EQRpPHZsz-eC"
   },
   "source": [
    "The `my_dir/intro_to_kt` directory contains detailed logs and checkpoints for every trial (model configuration) run during the hyperparameter search. If you re-run the hyperparameter search, the Keras Tuner uses the existing state from these logs to resume the search. To disable this behavior, pass an additional `overwrite=True` argument while instantiating the tuner."
   ]
  },
  {
   "cell_type": "markdown",
   "metadata": {
    "id": "sKwLOzKpFGAj"
   },
   "source": [
    "## Summary\n",
    "\n",
    "In this tutorial, you learned how to use the Keras Tuner to tune hyperparameters for a model. To learn more about the Keras Tuner, check out these additional resources:\n",
    "\n",
    "* [Keras Tuner on the TensorFlow blog](https://blog.tensorflow.org/2020/01/hyperparameter-tuning-with-keras-tuner.html)\n",
    "* [Keras Tuner website](https://keras-team.github.io/keras-tuner/)\n",
    "\n",
    "Also check out the [HParams Dashboard](https://www.tensorflow.org/tensorboard/hyperparameter_tuning_with_hparams) in TensorBoard to interactively tune your model hyperparameters (in case you are using TensorBoard)."
   ]
  },
  {
   "cell_type": "markdown",
   "metadata": {},
   "source": []
  }
 ],
 "metadata": {
  "accelerator": "GPU",
  "colab": {
   "collapsed_sections": [
    "Tce3stUlHN0L"
   ],
   "name": "keras_tuner.ipynb",
   "toc_visible": true
  },
  "kernelspec": {
   "display_name": "env37",
   "language": "python",
   "name": "python3"
  },
  "language_info": {
   "codemirror_mode": {
    "name": "ipython",
    "version": 3
   },
   "file_extension": ".py",
   "mimetype": "text/x-python",
   "name": "python",
   "nbconvert_exporter": "python",
   "pygments_lexer": "ipython3",
   "version": "3.8.20"
  }
 },
 "nbformat": 4,
 "nbformat_minor": 0
}
